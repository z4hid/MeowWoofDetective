{
 "cells": [
  {
   "cell_type": "code",
   "execution_count": 1,
   "metadata": {},
   "outputs": [
    {
     "name": "stderr",
     "output_type": "stream",
     "text": [
      "2023-06-17 06:56:56.548581: I tensorflow/core/util/port.cc:110] oneDNN custom operations are on. You may see slightly different numerical results due to floating-point round-off errors from different computation orders. To turn them off, set the environment variable `TF_ENABLE_ONEDNN_OPTS=0`.\n",
      "2023-06-17 06:56:56.575886: I tensorflow/core/platform/cpu_feature_guard.cc:182] This TensorFlow binary is optimized to use available CPU instructions in performance-critical operations.\n",
      "To enable the following instructions: AVX2 AVX_VNNI FMA, in other operations, rebuild TensorFlow with the appropriate compiler flags.\n",
      "2023-06-17 06:56:56.989514: W tensorflow/compiler/tf2tensorrt/utils/py_utils.cc:38] TF-TRT Warning: Could not find TensorRT\n"
     ]
    }
   ],
   "source": [
    "from src.class_names import get_class_names\n",
    "from src.data_loaders import get_data_loaders\n",
    "from src.utils import counter\n",
    "from src.cnn_model import create_cnn_model"
   ]
  },
  {
   "cell_type": "code",
   "execution_count": 2,
   "metadata": {},
   "outputs": [],
   "source": [
    "train_dir = 'data/train'\n",
    "test_dir = 'data/test'"
   ]
  },
  {
   "cell_type": "code",
   "execution_count": 3,
   "metadata": {},
   "outputs": [
    {
     "name": "stdout",
     "output_type": "stream",
     "text": [
      "['cats' 'dogs']\n",
      "Number of Classes: 2\n"
     ]
    }
   ],
   "source": [
    "class_names, num_classes = get_class_names(train_dir)\n",
    "print(class_names)\n",
    "print(f'Number of Classes: {num_classes}')"
   ]
  },
  {
   "cell_type": "code",
   "execution_count": 4,
   "metadata": {},
   "outputs": [],
   "source": [
    "img_size = 128\n",
    "batch_size = 32"
   ]
  },
  {
   "cell_type": "code",
   "execution_count": 5,
   "metadata": {},
   "outputs": [
    {
     "name": "stdout",
     "output_type": "stream",
     "text": [
      "Found 20000 images belonging to 2 classes.\n",
      "Found 5000 images belonging to 2 classes.\n"
     ]
    }
   ],
   "source": [
    "train_ds,  test_ds = get_data_loaders(train_dir, test_dir, img_size, batch_size)"
   ]
  },
  {
   "cell_type": "code",
   "execution_count": 6,
   "metadata": {},
   "outputs": [
    {
     "name": "stdout",
     "output_type": "stream",
     "text": [
      "Total Files: 20000\n"
     ]
    },
    {
     "data": {
      "image/png": "[encoded data removed]",
      "text/plain": [
       "<Figure size 500x300 with 1 Axes>"
      ]
     },
     "metadata": {},
     "output_type": "display_data"
    }
   ],
   "source": [
    "images, labels = next(train_ds)\n",
    "\n",
    "counter(train_dir)"
   ]
  },
  {
   "cell_type": "code",
   "execution_count": 7,
   "metadata": {},
   "outputs": [],
   "source": [
    "input_shape = (img_size, img_size, 3)"
   ]
  },
  {
   "cell_type": "code",
   "execution_count": 8,
   "metadata": {},
   "outputs": [
    {
     "name": "stderr",
     "output_type": "stream",
     "text": [
      "2023-06-17 06:57:06.527952: I tensorflow/compiler/xla/stream_executor/cuda/cuda_gpu_executor.cc:996] successful NUMA node read from SysFS had negative value (-1), but there must be at least one NUMA node, so returning NUMA node zero. See more at https://github.com/torvalds/linux/blob/v6.0/Documentation/ABI/testing/sysfs-bus-pci#L344-L355\n",
      "2023-06-17 06:57:06.545957: I tensorflow/compiler/xla/stream_executor/cuda/cuda_gpu_executor.cc:996] successful NUMA node read from SysFS had negative value (-1), but there must be at least one NUMA node, so returning NUMA node zero. See more at https://github.com/torvalds/linux/blob/v6.0/Documentation/ABI/testing/sysfs-bus-pci#L344-L355\n",
      "2023-06-17 06:57:06.546077: I tensorflow/compiler/xla/stream_executor/cuda/cuda_gpu_executor.cc:996] successful NUMA node read from SysFS had negative value (-1), but there must be at least one NUMA node, so returning NUMA node zero. See more at https://github.com/torvalds/linux/blob/v6.0/Documentation/ABI/testing/sysfs-bus-pci#L344-L355\n",
      "2023-06-17 06:57:06.546662: I tensorflow/compiler/xla/stream_executor/cuda/cuda_gpu_executor.cc:996] successful NUMA node read from SysFS had negative value (-1), but there must be at least one NUMA node, so returning NUMA node zero. See more at https://github.com/torvalds/linux/blob/v6.0/Documentation/ABI/testing/sysfs-bus-pci#L344-L355\n",
      "2023-06-17 06:57:06.546851: I tensorflow/compiler/xla/stream_executor/cuda/cuda_gpu_executor.cc:996] successful NUMA node read from SysFS had negative value (-1), but there must be at least one NUMA node, so returning NUMA node zero. See more at https://github.com/torvalds/linux/blob/v6.0/Documentation/ABI/testing/sysfs-bus-pci#L344-L355\n",
      "2023-06-17 06:57:06.546906: I tensorflow/compiler/xla/stream_executor/cuda/cuda_gpu_executor.cc:996] successful NUMA node read from SysFS had negative value (-1), but there must be at least one NUMA node, so returning NUMA node zero. See more at https://github.com/torvalds/linux/blob/v6.0/Documentation/ABI/testing/sysfs-bus-pci#L344-L355\n",
      "2023-06-17 06:57:07.579208: I tensorflow/compiler/xla/stream_executor/cuda/cuda_gpu_executor.cc:996] successful NUMA node read from SysFS had negative value (-1), but there must be at least one NUMA node, so returning NUMA node zero. See more at https://github.com/torvalds/linux/blob/v6.0/Documentation/ABI/testing/sysfs-bus-pci#L344-L355\n",
      "2023-06-17 06:57:07.579326: I tensorflow/compiler/xla/stream_executor/cuda/cuda_gpu_executor.cc:996] successful NUMA node read from SysFS had negative value (-1), but there must be at least one NUMA node, so returning NUMA node zero. See more at https://github.com/torvalds/linux/blob/v6.0/Documentation/ABI/testing/sysfs-bus-pci#L344-L355\n",
      "2023-06-17 06:57:07.579397: I tensorflow/compiler/xla/stream_executor/cuda/cuda_gpu_executor.cc:996] successful NUMA node read from SysFS had negative value (-1), but there must be at least one NUMA node, so returning NUMA node zero. See more at https://github.com/torvalds/linux/blob/v6.0/Documentation/ABI/testing/sysfs-bus-pci#L344-L355\n",
      "2023-06-17 06:57:07.579454: I tensorflow/core/common_runtime/gpu/gpu_device.cc:1635] Created device /job:localhost/replica:0/task:0/device:GPU:0 with 162 MB memory:  -> device: 0, name: NVIDIA GeForce RTX 3060, pci bus id: 0000:01:00.0, compute capability: 8.6\n"
     ]
    }
   ],
   "source": [
    "model = create_cnn_model(input_shape, num_classes)"
   ]
  },
  {
   "cell_type": "code",
   "execution_count": 9,
   "metadata": {},
   "outputs": [
    {
     "name": "stdout",
     "output_type": "stream",
     "text": [
      "Model: \"model\"\n",
      "_________________________________________________________________\n",
      " Layer (type)                Output Shape              Param #   \n",
      "=================================================================\n",
      " input_1 (InputLayer)        [(None, 128, 128, 3)]     0         \n",
      "                                                                 \n",
      " conv2d (Conv2D)             (None, 128, 128, 128)     18944     \n",
      "                                                                 \n",
      " max_pooling2d (MaxPooling2D  (None, 64, 64, 128)      0         \n",
      " )                                                               \n",
      "                                                                 \n",
      " conv2d_1 (Conv2D)           (None, 58, 58, 256)       1605888   \n",
      "                                                                 \n",
      " max_pooling2d_1 (MaxPooling  (None, 29, 29, 256)      0         \n",
      " 2D)                                                             \n",
      "                                                                 \n",
      " conv2d_2 (Conv2D)           (None, 29, 29, 32)        73760     \n",
      "                                                                 \n",
      " max_pooling2d_2 (MaxPooling  (None, 14, 14, 32)       0         \n",
      " 2D)                                                             \n",
      "                                                                 \n",
      " flatten (Flatten)           (None, 6272)              0         \n",
      "                                                                 \n",
      " dense (Dense)               (None, 512)               3211776   \n",
      "                                                                 \n",
      " dropout (Dropout)           (None, 512)               0         \n",
      "                                                                 \n",
      " dense_1 (Dense)             (None, 2)                 1026      \n",
      "                                                                 \n",
      "=================================================================\n",
      "Total params: 4,911,394\n",
      "Trainable params: 4,911,394\n",
      "Non-trainable params: 0\n",
      "_________________________________________________________________\n"
     ]
    }
   ],
   "source": [
    "model.summary()"
   ]
  },
  {
   "cell_type": "code",
   "execution_count": 10,
   "metadata": {},
   "outputs": [],
   "source": [
    "model.compile(optimizer='adam', loss='binary_crossentropy', metrics=['accuracy'])"
   ]
  },
  {
   "cell_type": "code",
   "execution_count": 11,
   "metadata": {},
   "outputs": [
    {
     "name": "stdout",
     "output_type": "stream",
     "text": [
      "Epoch 1/10\n"
     ]
    },
    {
     "name": "stderr",
     "output_type": "stream",
     "text": [
      "2023-06-17 06:57:14.523913: I tensorflow/core/common_runtime/executor.cc:1197] [/device:CPU:0] (DEBUG INFO) Executor start aborting (this does not indicate an error and you can ignore this message): INVALID_ARGUMENT: You must feed a value for placeholder tensor 'Placeholder/_0' with dtype int32\n",
      "\t [[{{node Placeholder/_0}}]]\n",
      "2023-06-17 06:57:24.983088: W tensorflow/tsl/framework/bfc_allocator.cc:485] Allocator (GPU_0_bfc) ran out of memory trying to allocate 256.00MiB (rounded to 268435456)requested by op model/conv2d/Relu\n",
      "If the cause is memory fragmentation maybe the environment variable 'TF_GPU_ALLOCATOR=cuda_malloc_async' will improve the situation. \n",
      "Current allocation summary follows.\n",
      "Current allocation summary follows.\n",
      "2023-06-17 06:57:24.983139: I tensorflow/tsl/framework/bfc_allocator.cc:1039] BFCAllocator dump for GPU_0_bfc\n",
      "2023-06-17 06:57:24.983149: I tensorflow/tsl/framework/bfc_allocator.cc:1046] Bin (256): \tTotal Chunks: 36, Chunks in use: 36. 9.0KiB allocated for chunks. 9.0KiB in use in bin. 1.0KiB client-requested in use in bin.\n",
      "2023-06-17 06:57:24.983155: I tensorflow/tsl/framework/bfc_allocator.cc:1046] Bin (512): \tTotal Chunks: 3, Chunks in use: 3. 1.5KiB allocated for chunks. 1.5KiB in use in bin. 1.5KiB client-requested in use in bin.\n",
      "2023-06-17 06:57:24.983161: I tensorflow/tsl/framework/bfc_allocator.cc:1046] Bin (1024): \tTotal Chunks: 4, Chunks in use: 4. 4.2KiB allocated for chunks. 4.2KiB in use in bin. 4.0KiB client-requested in use in bin.\n",
      "2023-06-17 06:57:24.983166: I tensorflow/tsl/framework/bfc_allocator.cc:1046] Bin (2048): \tTotal Chunks: 3, Chunks in use: 3. 7.5KiB allocated for chunks. 7.5KiB in use in bin. 6.0KiB client-requested in use in bin.\n",
      "2023-06-17 06:57:24.983171: I tensorflow/tsl/framework/bfc_allocator.cc:1046] Bin (4096): \tTotal Chunks: 3, Chunks in use: 3. 12.0KiB allocated for chunks. 12.0KiB in use in bin. 12.0KiB client-requested in use in bin.\n",
      "2023-06-17 06:57:24.983177: I tensorflow/tsl/framework/bfc_allocator.cc:1046] Bin (8192): \tTotal Chunks: 0, Chunks in use: 0. 0B allocated for chunks. 0B in use in bin. 0B client-requested in use in bin.\n",
      "2023-06-17 06:57:24.983181: I tensorflow/tsl/framework/bfc_allocator.cc:1046] Bin (16384): \tTotal Chunks: 0, Chunks in use: 0. 0B allocated for chunks. 0B in use in bin. 0B client-requested in use in bin.\n",
      "2023-06-17 06:57:24.983186: I tensorflow/tsl/framework/bfc_allocator.cc:1046] Bin (32768): \tTotal Chunks: 0, Chunks in use: 0. 0B allocated for chunks. 0B in use in bin. 0B client-requested in use in bin.\n",
      "2023-06-17 06:57:24.983192: I tensorflow/tsl/framework/bfc_allocator.cc:1046] Bin (65536): \tTotal Chunks: 2, Chunks in use: 2. 147.0KiB allocated for chunks. 147.0KiB in use in bin. 147.0KiB client-requested in use in bin.\n",
      "2023-06-17 06:57:24.983197: I tensorflow/tsl/framework/bfc_allocator.cc:1046] Bin (131072): \tTotal Chunks: 1, Chunks in use: 1. 129.0KiB allocated for chunks. 129.0KiB in use in bin. 73.5KiB client-requested in use in bin.\n",
      "2023-06-17 06:57:24.983203: I tensorflow/tsl/framework/bfc_allocator.cc:1046] Bin (262144): \tTotal Chunks: 3, Chunks in use: 3. 1.05MiB allocated for chunks. 1.05MiB in use in bin. 864.0KiB client-requested in use in bin.\n",
      "2023-06-17 06:57:24.983207: I tensorflow/tsl/framework/bfc_allocator.cc:1046] Bin (524288): \tTotal Chunks: 0, Chunks in use: 0. 0B allocated for chunks. 0B in use in bin. 0B client-requested in use in bin.\n",
      "2023-06-17 06:57:24.983211: I tensorflow/tsl/framework/bfc_allocator.cc:1046] Bin (1048576): \tTotal Chunks: 0, Chunks in use: 0. 0B allocated for chunks. 0B in use in bin. 0B client-requested in use in bin.\n",
      "2023-06-17 06:57:24.983216: I tensorflow/tsl/framework/bfc_allocator.cc:1046] Bin (2097152): \tTotal Chunks: 0, Chunks in use: 0. 0B allocated for chunks. 0B in use in bin. 0B client-requested in use in bin.\n",
      "2023-06-17 06:57:24.983221: I tensorflow/tsl/framework/bfc_allocator.cc:1046] Bin (4194304): \tTotal Chunks: 4, Chunks in use: 3. 24.25MiB allocated for chunks. 18.25MiB in use in bin. 18.25MiB client-requested in use in bin.\n",
      "2023-06-17 06:57:24.983227: I tensorflow/tsl/framework/bfc_allocator.cc:1046] Bin (8388608): \tTotal Chunks: 3, Chunks in use: 3. 35.91MiB allocated for chunks. 35.91MiB in use in bin. 30.62MiB client-requested in use in bin.\n",
      "2023-06-17 06:57:24.983232: I tensorflow/tsl/framework/bfc_allocator.cc:1046] Bin (16777216): \tTotal Chunks: 1, Chunks in use: 1. 18.09MiB allocated for chunks. 18.09MiB in use in bin. 12.25MiB client-requested in use in bin.\n",
      "2023-06-17 06:57:24.983237: I tensorflow/tsl/framework/bfc_allocator.cc:1046] Bin (33554432): \tTotal Chunks: 0, Chunks in use: 0. 0B allocated for chunks. 0B in use in bin. 0B client-requested in use in bin.\n",
      "2023-06-17 06:57:24.983242: I tensorflow/tsl/framework/bfc_allocator.cc:1046] Bin (67108864): \tTotal Chunks: 1, Chunks in use: 0. 82.71MiB allocated for chunks. 0B in use in bin. 0B client-requested in use in bin.\n",
      "2023-06-17 06:57:24.983246: I tensorflow/tsl/framework/bfc_allocator.cc:1046] Bin (134217728): \tTotal Chunks: 0, Chunks in use: 0. 0B allocated for chunks. 0B in use in bin. 0B client-requested in use in bin.\n",
      "2023-06-17 06:57:24.983252: I tensorflow/tsl/framework/bfc_allocator.cc:1046] Bin (268435456): \tTotal Chunks: 0, Chunks in use: 0. 0B allocated for chunks. 0B in use in bin. 0B client-requested in use in bin.\n",
      "2023-06-17 06:57:24.983257: I tensorflow/tsl/framework/bfc_allocator.cc:1062] Bin for 256.00MiB was 256.00MiB, Chunk State: \n",
      "2023-06-17 06:57:24.983261: I tensorflow/tsl/framework/bfc_allocator.cc:1075] Next region of size 170196992\n",
      "2023-06-17 06:57:24.983270: I tensorflow/tsl/framework/bfc_allocator.cc:1095] InUse at 7efea4000000 of size 1280 next 1\n",
      "2023-06-17 06:57:24.983275: I tensorflow/tsl/framework/bfc_allocator.cc:1095] InUse at 7efea4000500 of size 256 next 2\n",
      "2023-06-17 06:57:24.983281: I tensorflow/tsl/framework/bfc_allocator.cc:1095] InUse at 7efea4000600 of size 256 next 3\n",
      "2023-06-17 06:57:24.983286: I tensorflow/tsl/framework/bfc_allocator.cc:1095] InUse at 7efea4000700 of size 256 next 5\n",
      "2023-06-17 06:57:24.983292: I tensorflow/tsl/framework/bfc_allocator.cc:1095] InUse at 7efea4000800 of size 512 next 6\n",
      "2023-06-17 06:57:24.983297: I tensorflow/tsl/framework/bfc_allocator.cc:1095] InUse at 7efea4000a00 of size 256 next 4\n",
      "2023-06-17 06:57:24.983304: I tensorflow/tsl/framework/bfc_allocator.cc:1095] InUse at 7efea4000b00 of size 256 next 7\n",
      "2023-06-17 06:57:24.983310: I tensorflow/tsl/framework/bfc_allocator.cc:1095] InUse at 7efea4000c00 of size 1024 next 12\n",
      "2023-06-17 06:57:24.983315: I tensorflow/tsl/framework/bfc_allocator.cc:1095] InUse at 7efea4001000 of size 256 next 10\n",
      "2023-06-17 06:57:24.983320: I tensorflow/tsl/framework/bfc_allocator.cc:1095] InUse at 7efea4001100 of size 256 next 11\n",
      "2023-06-17 06:57:24.983325: I tensorflow/tsl/framework/bfc_allocator.cc:1095] InUse at 7efea4001200 of size 256 next 17\n",
      "2023-06-17 06:57:24.983331: I tensorflow/tsl/framework/bfc_allocator.cc:1095] InUse at 7efea4001300 of size 256 next 15\n",
      "2023-06-17 06:57:24.983336: I tensorflow/tsl/framework/bfc_allocator.cc:1095] InUse at 7efea4001400 of size 256 next 16\n",
      "2023-06-17 06:57:24.983343: I tensorflow/tsl/framework/bfc_allocator.cc:1095] InUse at 7efea4001500 of size 2048 next 22\n",
      "2023-06-17 06:57:24.983348: I tensorflow/tsl/framework/bfc_allocator.cc:1095] InUse at 7efea4001d00 of size 256 next 20\n",
      "2023-06-17 06:57:24.983351: I tensorflow/tsl/framework/bfc_allocator.cc:1095] InUse at 7efea4001e00 of size 256 next 21\n",
      "2023-06-17 06:57:24.983355: I tensorflow/tsl/framework/bfc_allocator.cc:1095] InUse at 7efea4001f00 of size 256 next 26\n",
      "2023-06-17 06:57:24.983358: I tensorflow/tsl/framework/bfc_allocator.cc:1095] InUse at 7efea4002000 of size 256 next 27\n",
      "2023-06-17 06:57:24.983362: I tensorflow/tsl/framework/bfc_allocator.cc:1095] InUse at 7efea4002100 of size 256 next 25\n",
      "2023-06-17 06:57:24.983365: I tensorflow/tsl/framework/bfc_allocator.cc:1095] InUse at 7efea4002200 of size 256 next 28\n",
      "2023-06-17 06:57:24.983369: I tensorflow/tsl/framework/bfc_allocator.cc:1095] InUse at 7efea4002300 of size 256 next 31\n",
      "2023-06-17 06:57:24.983378: I tensorflow/tsl/framework/bfc_allocator.cc:1095] InUse at 7efea4002400 of size 256 next 32\n",
      "2023-06-17 06:57:24.983382: I tensorflow/tsl/framework/bfc_allocator.cc:1095] InUse at 7efea4002500 of size 256 next 33\n",
      "2023-06-17 06:57:24.983385: I tensorflow/tsl/framework/bfc_allocator.cc:1095] InUse at 7efea4002600 of size 512 next 35\n",
      "2023-06-17 06:57:24.983389: I tensorflow/tsl/framework/bfc_allocator.cc:1095] InUse at 7efea4002800 of size 512 next 36\n",
      "2023-06-17 06:57:24.983392: I tensorflow/tsl/framework/bfc_allocator.cc:1095] InUse at 7efea4002a00 of size 1024 next 38\n",
      "2023-06-17 06:57:24.983396: I tensorflow/tsl/framework/bfc_allocator.cc:1095] InUse at 7efea4002e00 of size 1024 next 39\n",
      "2023-06-17 06:57:24.983399: I tensorflow/tsl/framework/bfc_allocator.cc:1095] InUse at 7efea4003200 of size 256 next 41\n",
      "2023-06-17 06:57:24.983403: I tensorflow/tsl/framework/bfc_allocator.cc:1095] InUse at 7efea4003300 of size 256 next 42\n",
      "2023-06-17 06:57:24.983407: I tensorflow/tsl/framework/bfc_allocator.cc:1095] InUse at 7efea4003400 of size 3584 next 29\n",
      "2023-06-17 06:57:24.983411: I tensorflow/tsl/framework/bfc_allocator.cc:1095] InUse at 7efea4004200 of size 4096 next 30\n",
      "2023-06-17 06:57:24.983415: I tensorflow/tsl/framework/bfc_allocator.cc:1095] InUse at 7efea4005200 of size 132096 next 8\n",
      "2023-06-17 06:57:24.983419: I tensorflow/tsl/framework/bfc_allocator.cc:1095] InUse at 7efea4025600 of size 75264 next 9\n",
      "2023-06-17 06:57:24.983423: I tensorflow/tsl/framework/bfc_allocator.cc:1095] InUse at 7efea4037c00 of size 75264 next 34\n",
      "2023-06-17 06:57:24.983426: I tensorflow/tsl/framework/bfc_allocator.cc:1095] InUse at 7efea404a200 of size 514560 next 19\n",
      "2023-06-17 06:57:24.983431: I tensorflow/tsl/framework/bfc_allocator.cc:1095] InUse at 7efea40c7c00 of size 294912 next 18\n",
      "2023-06-17 06:57:24.983435: I tensorflow/tsl/framework/bfc_allocator.cc:1095] InUse at 7efea410fc00 of size 11960320 next 14\n",
      "2023-06-17 06:57:24.983438: I tensorflow/tsl/framework/bfc_allocator.cc:1095] InUse at 7efea4c77c00 of size 6422528 next 13\n",
      "2023-06-17 06:57:24.983442: I tensorflow/tsl/framework/bfc_allocator.cc:1095] InUse at 7efea5297c00 of size 6422528 next 37\n",
      "2023-06-17 06:57:24.983445: I tensorflow/tsl/framework/bfc_allocator.cc:1095] InUse at 7efea58b7c00 of size 294912 next 40\n",
      "2023-06-17 06:57:24.983449: I tensorflow/tsl/framework/bfc_allocator.cc:1095] InUse at 7efea58ffc00 of size 18972672 next 24\n",
      "2023-06-17 06:57:24.983453: I tensorflow/tsl/framework/bfc_allocator.cc:1095] InUse at 7efea6b17c00 of size 12845056 next 23\n",
      "2023-06-17 06:57:24.983457: I tensorflow/tsl/framework/bfc_allocator.cc:1095] InUse at 7efea7757c00 of size 12845056 next 43\n",
      "2023-06-17 06:57:24.983461: I tensorflow/tsl/framework/bfc_allocator.cc:1095] InUse at 7efea8397c00 of size 2048 next 44\n",
      "2023-06-17 06:57:24.983465: I tensorflow/tsl/framework/bfc_allocator.cc:1095] InUse at 7efea8398400 of size 4096 next 45\n",
      "2023-06-17 06:57:24.983469: I tensorflow/tsl/framework/bfc_allocator.cc:1095] InUse at 7efea8399400 of size 4096 next 46\n",
      "2023-06-17 06:57:24.983473: I tensorflow/tsl/framework/bfc_allocator.cc:1095] InUse at 7efea839a400 of size 256 next 47\n",
      "2023-06-17 06:57:24.983476: I tensorflow/tsl/framework/bfc_allocator.cc:1095] InUse at 7efea839a500 of size 256 next 48\n",
      "2023-06-17 06:57:24.983480: I tensorflow/tsl/framework/bfc_allocator.cc:1095] InUse at 7efea839a600 of size 256 next 49\n",
      "2023-06-17 06:57:24.983483: I tensorflow/tsl/framework/bfc_allocator.cc:1095] InUse at 7efea839a700 of size 256 next 50\n",
      "2023-06-17 06:57:24.983487: I tensorflow/tsl/framework/bfc_allocator.cc:1095] InUse at 7efea839a800 of size 256 next 51\n",
      "2023-06-17 06:57:24.983490: I tensorflow/tsl/framework/bfc_allocator.cc:1095] InUse at 7efea839a900 of size 256 next 52\n",
      "2023-06-17 06:57:24.983494: I tensorflow/tsl/framework/bfc_allocator.cc:1095] InUse at 7efea839aa00 of size 256 next 53\n",
      "2023-06-17 06:57:24.983497: I tensorflow/tsl/framework/bfc_allocator.cc:1095] InUse at 7efea839ab00 of size 256 next 54\n",
      "2023-06-17 06:57:24.983500: I tensorflow/tsl/framework/bfc_allocator.cc:1095] InUse at 7efea839ac00 of size 256 next 55\n",
      "2023-06-17 06:57:24.983509: I tensorflow/tsl/framework/bfc_allocator.cc:1095] InUse at 7efea839ad00 of size 256 next 56\n",
      "2023-06-17 06:57:24.983517: I tensorflow/tsl/framework/bfc_allocator.cc:1095] InUse at 7efea839ae00 of size 256 next 57\n",
      "2023-06-17 06:57:24.983525: I tensorflow/tsl/framework/bfc_allocator.cc:1095] InUse at 7efea839af00 of size 256 next 58\n",
      "2023-06-17 06:57:24.983533: I tensorflow/tsl/framework/bfc_allocator.cc:1095] InUse at 7efea839b000 of size 256 next 59\n",
      "2023-06-17 06:57:24.983541: I tensorflow/tsl/framework/bfc_allocator.cc:1095] InUse at 7efea839b100 of size 256 next 64\n",
      "2023-06-17 06:57:24.983549: I tensorflow/tsl/framework/bfc_allocator.cc:1095] Free  at 7efea839b200 of size 6291456 next 61\n",
      "2023-06-17 06:57:24.983558: I tensorflow/tsl/framework/bfc_allocator.cc:1095] InUse at 7efea899b200 of size 256 next 62\n",
      "2023-06-17 06:57:24.983567: I tensorflow/tsl/framework/bfc_allocator.cc:1095] InUse at 7efea899b300 of size 6291456 next 63\n",
      "2023-06-17 06:57:24.983576: I tensorflow/tsl/framework/bfc_allocator.cc:1095] Free  at 7efea8f9b300 of size 86723840 next 18446744073709551615\n",
      "2023-06-17 06:57:24.983586: I tensorflow/tsl/framework/bfc_allocator.cc:1100]      Summary of in-use Chunks by size: \n",
      "2023-06-17 06:57:24.983599: I tensorflow/tsl/framework/bfc_allocator.cc:1103] 36 Chunks of size 256 totalling 9.0KiB\n",
      "2023-06-17 06:57:24.983609: I tensorflow/tsl/framework/bfc_allocator.cc:1103] 3 Chunks of size 512 totalling 1.5KiB\n",
      "2023-06-17 06:57:24.983619: I tensorflow/tsl/framework/bfc_allocator.cc:1103] 3 Chunks of size 1024 totalling 3.0KiB\n",
      "2023-06-17 06:57:24.983628: I tensorflow/tsl/framework/bfc_allocator.cc:1103] 1 Chunks of size 1280 totalling 1.2KiB\n",
      "2023-06-17 06:57:24.983637: I tensorflow/tsl/framework/bfc_allocator.cc:1103] 2 Chunks of size 2048 totalling 4.0KiB\n",
      "2023-06-17 06:57:24.983647: I tensorflow/tsl/framework/bfc_allocator.cc:1103] 1 Chunks of size 3584 totalling 3.5KiB\n",
      "2023-06-17 06:57:24.983656: I tensorflow/tsl/framework/bfc_allocator.cc:1103] 3 Chunks of size 4096 totalling 12.0KiB\n",
      "2023-06-17 06:57:24.983666: I tensorflow/tsl/framework/bfc_allocator.cc:1103] 2 Chunks of size 75264 totalling 147.0KiB\n",
      "2023-06-17 06:57:24.983676: I tensorflow/tsl/framework/bfc_allocator.cc:1103] 1 Chunks of size 132096 totalling 129.0KiB\n",
      "2023-06-17 06:57:24.983686: I tensorflow/tsl/framework/bfc_allocator.cc:1103] 2 Chunks of size 294912 totalling 576.0KiB\n",
      "2023-06-17 06:57:24.983696: I tensorflow/tsl/framework/bfc_allocator.cc:1103] 1 Chunks of size 514560 totalling 502.5KiB\n",
      "2023-06-17 06:57:24.983705: I tensorflow/tsl/framework/bfc_allocator.cc:1103] 1 Chunks of size 6291456 totalling 6.00MiB\n",
      "2023-06-17 06:57:24.983716: I tensorflow/tsl/framework/bfc_allocator.cc:1103] 2 Chunks of size 6422528 totalling 12.25MiB\n",
      "2023-06-17 06:57:24.983727: I tensorflow/tsl/framework/bfc_allocator.cc:1103] 1 Chunks of size 11960320 totalling 11.41MiB\n",
      "2023-06-17 06:57:24.983737: I tensorflow/tsl/framework/bfc_allocator.cc:1103] 2 Chunks of size 12845056 totalling 24.50MiB\n",
      "2023-06-17 06:57:24.983746: I tensorflow/tsl/framework/bfc_allocator.cc:1103] 1 Chunks of size 18972672 totalling 18.09MiB\n",
      "2023-06-17 06:57:24.983757: I tensorflow/tsl/framework/bfc_allocator.cc:1107] Sum Total of in-use chunks: 73.61MiB\n",
      "2023-06-17 06:57:24.983767: I tensorflow/tsl/framework/bfc_allocator.cc:1109] Total bytes in pool: 170196992 memory_limit_: 170196992 available bytes: 0 curr_region_allocation_bytes_: 340393984\n",
      "2023-06-17 06:57:24.983787: I tensorflow/tsl/framework/bfc_allocator.cc:1114] Stats: \n",
      "Limit:                       170196992\n",
      "InUse:                        77181696\n",
      "MaxInUse:                     83473152\n",
      "NumAllocs:                          91\n",
      "MaxAllocSize:                 18972672\n",
      "Reserved:                            0\n",
      "PeakReserved:                        0\n",
      "LargestFreeBlock:                    0\n",
      "\n",
      "2023-06-17 06:57:24.983807: W tensorflow/tsl/framework/bfc_allocator.cc:497] *****xx****************xxx****************___*****__________________________________________________\n",
      "2023-06-17 06:57:24.983848: W tensorflow/core/framework/op_kernel.cc:1830] OP_REQUIRES failed at conv_ops_fused_impl.h:772 : RESOURCE_EXHAUSTED: OOM when allocating tensor with shape[32,128,128,128] and type float on /job:localhost/replica:0/task:0/device:GPU:0 by allocator GPU_0_bfc\n",
      "2023-06-17 06:57:24.983885: I tensorflow/core/common_runtime/executor.cc:1197] [/job:localhost/replica:0/task:0/device:GPU:0] (DEBUG INFO) Executor start aborting (this does not indicate an error and you can ignore this message): RESOURCE_EXHAUSTED: OOM when allocating tensor with shape[32,128,128,128] and type float on /job:localhost/replica:0/task:0/device:GPU:0 by allocator GPU_0_bfc\n",
      "\t [[{{node model/conv2d/Relu}}]]\n",
      "Hint: If you want to see a list of allocated tensors when OOM happens, add report_tensor_allocations_upon_oom to RunOptions for current allocation info. This isn't available when running in Eager mode.\n",
      "\n"
     ]
    },
    {
     "ename": "ResourceExhaustedError",
     "evalue": "Graph execution error:\n\nDetected at node 'model/conv2d/Relu' defined at (most recent call last):\n    File \"/home/zahid/miniconda3/envs/cnncls/lib/python3.8/runpy.py\", line 194, in _run_module_as_main\n      return _run_code(code, main_globals, None,\n    File \"/home/zahid/miniconda3/envs/cnncls/lib/python3.8/runpy.py\", line 87, in _run_code\n      exec(code, run_globals)\n    File \"/home/zahid/miniconda3/envs/cnncls/lib/python3.8/site-packages/ipykernel_launcher.py\", line 17, in <module>\n      app.launch_new_instance()\n    File \"/home/zahid/miniconda3/envs/cnncls/lib/python3.8/site-packages/traitlets/config/application.py\", line 1043, in launch_instance\n      app.start()\n    File \"/home/zahid/miniconda3/envs/cnncls/lib/python3.8/site-packages/ipykernel/kernelapp.py\", line 725, in start\n      self.io_loop.start()\n    File \"/home/zahid/miniconda3/envs/cnncls/lib/python3.8/site-packages/tornado/platform/asyncio.py\", line 195, in start\n      self.asyncio_loop.run_forever()\n    File \"/home/zahid/miniconda3/envs/cnncls/lib/python3.8/asyncio/base_events.py\", line 570, in run_forever\n      self._run_once()\n    File \"/home/zahid/miniconda3/envs/cnncls/lib/python3.8/asyncio/base_events.py\", line 1859, in _run_once\n      handle._run()\n    File \"/home/zahid/miniconda3/envs/cnncls/lib/python3.8/asyncio/events.py\", line 81, in _run\n      self._context.run(self._callback, *self._args)\n    File \"/home/zahid/miniconda3/envs/cnncls/lib/python3.8/site-packages/ipykernel/kernelbase.py\", line 513, in dispatch_queue\n      await self.process_one()\n    File \"/home/zahid/miniconda3/envs/cnncls/lib/python3.8/site-packages/ipykernel/kernelbase.py\", line 502, in process_one\n      await dispatch(*args)\n    File \"/home/zahid/miniconda3/envs/cnncls/lib/python3.8/site-packages/ipykernel/kernelbase.py\", line 409, in dispatch_shell\n      await result\n    File \"/home/zahid/miniconda3/envs/cnncls/lib/python3.8/site-packages/ipykernel/kernelbase.py\", line 729, in execute_request\n      reply_content = await reply_content\n    File \"/home/zahid/miniconda3/envs/cnncls/lib/python3.8/site-packages/ipykernel/ipkernel.py\", line 422, in do_execute\n      res = shell.run_cell(\n    File \"/home/zahid/miniconda3/envs/cnncls/lib/python3.8/site-packages/ipykernel/zmqshell.py\", line 540, in run_cell\n      return super().run_cell(*args, **kwargs)\n    File \"/home/zahid/miniconda3/envs/cnncls/lib/python3.8/site-packages/IPython/core/interactiveshell.py\", line 3009, in run_cell\n      result = self._run_cell(\n    File \"/home/zahid/miniconda3/envs/cnncls/lib/python3.8/site-packages/IPython/core/interactiveshell.py\", line 3064, in _run_cell\n      result = runner(coro)\n    File \"/home/zahid/miniconda3/envs/cnncls/lib/python3.8/site-packages/IPython/core/async_helpers.py\", line 129, in _pseudo_sync_runner\n      coro.send(None)\n    File \"/home/zahid/miniconda3/envs/cnncls/lib/python3.8/site-packages/IPython/core/interactiveshell.py\", line 3269, in run_cell_async\n      has_raised = await self.run_ast_nodes(code_ast.body, cell_name,\n    File \"/home/zahid/miniconda3/envs/cnncls/lib/python3.8/site-packages/IPython/core/interactiveshell.py\", line 3448, in run_ast_nodes\n      if await self.run_code(code, result, async_=asy):\n    File \"/home/zahid/miniconda3/envs/cnncls/lib/python3.8/site-packages/IPython/core/interactiveshell.py\", line 3508, in run_code\n      exec(code_obj, self.user_global_ns, self.user_ns)\n    File \"/tmp/ipykernel_65431/2790068021.py\", line 1, in <module>\n      history = model.fit(train_ds,\n    File \"/home/zahid/miniconda3/envs/cnncls/lib/python3.8/site-packages/keras/utils/traceback_utils.py\", line 65, in error_handler\n      return fn(*args, **kwargs)\n    File \"/home/zahid/miniconda3/envs/cnncls/lib/python3.8/site-packages/keras/engine/training.py\", line 1685, in fit\n      tmp_logs = self.train_function(iterator)\n    File \"/home/zahid/miniconda3/envs/cnncls/lib/python3.8/site-packages/keras/engine/training.py\", line 1284, in train_function\n      return step_function(self, iterator)\n    File \"/home/zahid/miniconda3/envs/cnncls/lib/python3.8/site-packages/keras/engine/training.py\", line 1268, in step_function\n      outputs = model.distribute_strategy.run(run_step, args=(data,))\n    File \"/home/zahid/miniconda3/envs/cnncls/lib/python3.8/site-packages/keras/engine/training.py\", line 1249, in run_step\n      outputs = model.train_step(data)\n    File \"/home/zahid/miniconda3/envs/cnncls/lib/python3.8/site-packages/keras/engine/training.py\", line 1050, in train_step\n      y_pred = self(x, training=True)\n    File \"/home/zahid/miniconda3/envs/cnncls/lib/python3.8/site-packages/keras/utils/traceback_utils.py\", line 65, in error_handler\n      return fn(*args, **kwargs)\n    File \"/home/zahid/miniconda3/envs/cnncls/lib/python3.8/site-packages/keras/engine/training.py\", line 558, in __call__\n      return super().__call__(*args, **kwargs)\n    File \"/home/zahid/miniconda3/envs/cnncls/lib/python3.8/site-packages/keras/utils/traceback_utils.py\", line 65, in error_handler\n      return fn(*args, **kwargs)\n    File \"/home/zahid/miniconda3/envs/cnncls/lib/python3.8/site-packages/keras/engine/base_layer.py\", line 1145, in __call__\n      outputs = call_fn(inputs, *args, **kwargs)\n    File \"/home/zahid/miniconda3/envs/cnncls/lib/python3.8/site-packages/keras/utils/traceback_utils.py\", line 96, in error_handler\n      return fn(*args, **kwargs)\n    File \"/home/zahid/miniconda3/envs/cnncls/lib/python3.8/site-packages/keras/engine/functional.py\", line 512, in call\n      return self._run_internal_graph(inputs, training=training, mask=mask)\n    File \"/home/zahid/miniconda3/envs/cnncls/lib/python3.8/site-packages/keras/engine/functional.py\", line 669, in _run_internal_graph\n      outputs = node.layer(*args, **kwargs)\n    File \"/home/zahid/miniconda3/envs/cnncls/lib/python3.8/site-packages/keras/utils/traceback_utils.py\", line 65, in error_handler\n      return fn(*args, **kwargs)\n    File \"/home/zahid/miniconda3/envs/cnncls/lib/python3.8/site-packages/keras/engine/base_layer.py\", line 1145, in __call__\n      outputs = call_fn(inputs, *args, **kwargs)\n    File \"/home/zahid/miniconda3/envs/cnncls/lib/python3.8/site-packages/keras/utils/traceback_utils.py\", line 96, in error_handler\n      return fn(*args, **kwargs)\n    File \"/home/zahid/miniconda3/envs/cnncls/lib/python3.8/site-packages/keras/layers/convolutional/base_conv.py\", line 321, in call\n      return self.activation(outputs)\n    File \"/home/zahid/miniconda3/envs/cnncls/lib/python3.8/site-packages/keras/activations.py\", line 317, in relu\n      return backend.relu(\n    File \"/home/zahid/miniconda3/envs/cnncls/lib/python3.8/site-packages/keras/backend.py\", line 5396, in relu\n      x = tf.nn.relu(x)\nNode: 'model/conv2d/Relu'\nOOM when allocating tensor with shape[32,128,128,128] and type float on /job:localhost/replica:0/task:0/device:GPU:0 by allocator GPU_0_bfc\n\t [[{{node model/conv2d/Relu}}]]\nHint: If you want to see a list of allocated tensors when OOM happens, add report_tensor_allocations_upon_oom to RunOptions for current allocation info. This isn't available when running in Eager mode.\n [Op:__inference_train_function_1460]",
     "output_type": "error",
     "traceback": [
      "\u001b[0;31m---------------------------------------------------------------------------\u001b[0m",
      "\u001b[0;31mResourceExhaustedError\u001b[0m                    Traceback (most recent call last)",
      "Cell \u001b[0;32mIn[11], line 1\u001b[0m\n\u001b[0;32m----> 1\u001b[0m history \u001b[39m=\u001b[39m model\u001b[39m.\u001b[39;49mfit(train_ds,\n\u001b[1;32m      2\u001b[0m                     epochs\u001b[39m=\u001b[39;49m\u001b[39m10\u001b[39;49m,\n\u001b[1;32m      3\u001b[0m                     validation_data \u001b[39m=\u001b[39;49m test_ds,\n\u001b[1;32m      4\u001b[0m                     )\n",
      "File \u001b[0;32m~/miniconda3/envs/cnncls/lib/python3.8/site-packages/keras/utils/traceback_utils.py:70\u001b[0m, in \u001b[0;36mfilter_traceback.<locals>.error_handler\u001b[0;34m(*args, **kwargs)\u001b[0m\n\u001b[1;32m     67\u001b[0m     filtered_tb \u001b[39m=\u001b[39m _process_traceback_frames(e\u001b[39m.\u001b[39m__traceback__)\n\u001b[1;32m     68\u001b[0m     \u001b[39m# To get the full stack trace, call:\u001b[39;00m\n\u001b[1;32m     69\u001b[0m     \u001b[39m# `tf.debugging.disable_traceback_filtering()`\u001b[39;00m\n\u001b[0;32m---> 70\u001b[0m     \u001b[39mraise\u001b[39;00m e\u001b[39m.\u001b[39mwith_traceback(filtered_tb) \u001b[39mfrom\u001b[39;00m \u001b[39mNone\u001b[39;00m\n\u001b[1;32m     71\u001b[0m \u001b[39mfinally\u001b[39;00m:\n\u001b[1;32m     72\u001b[0m     \u001b[39mdel\u001b[39;00m filtered_tb\n",
      "File \u001b[0;32m~/miniconda3/envs/cnncls/lib/python3.8/site-packages/tensorflow/python/eager/execute.py:52\u001b[0m, in \u001b[0;36mquick_execute\u001b[0;34m(op_name, num_outputs, inputs, attrs, ctx, name)\u001b[0m\n\u001b[1;32m     50\u001b[0m \u001b[39mtry\u001b[39;00m:\n\u001b[1;32m     51\u001b[0m   ctx\u001b[39m.\u001b[39mensure_initialized()\n\u001b[0;32m---> 52\u001b[0m   tensors \u001b[39m=\u001b[39m pywrap_tfe\u001b[39m.\u001b[39mTFE_Py_Execute(ctx\u001b[39m.\u001b[39m_handle, device_name, op_name,\n\u001b[1;32m     53\u001b[0m                                       inputs, attrs, num_outputs)\n\u001b[1;32m     54\u001b[0m \u001b[39mexcept\u001b[39;00m core\u001b[39m.\u001b[39m_NotOkStatusException \u001b[39mas\u001b[39;00m e:\n\u001b[1;32m     55\u001b[0m   \u001b[39mif\u001b[39;00m name \u001b[39mis\u001b[39;00m \u001b[39mnot\u001b[39;00m \u001b[39mNone\u001b[39;00m:\n",
      "\u001b[0;31mResourceExhaustedError\u001b[0m: Graph execution error:\n\nDetected at node 'model/conv2d/Relu' defined at (most recent call last):\n    File \"/home/zahid/miniconda3/envs/cnncls/lib/python3.8/runpy.py\", line 194, in _run_module_as_main\n      return _run_code(code, main_globals, None,\n    File \"/home/zahid/miniconda3/envs/cnncls/lib/python3.8/runpy.py\", line 87, in _run_code\n      exec(code, run_globals)\n    File \"/home/zahid/miniconda3/envs/cnncls/lib/python3.8/site-packages/ipykernel_launcher.py\", line 17, in <module>\n      app.launch_new_instance()\n    File \"/home/zahid/miniconda3/envs/cnncls/lib/python3.8/site-packages/traitlets/config/application.py\", line 1043, in launch_instance\n      app.start()\n    File \"/home/zahid/miniconda3/envs/cnncls/lib/python3.8/site-packages/ipykernel/kernelapp.py\", line 725, in start\n      self.io_loop.start()\n    File \"/home/zahid/miniconda3/envs/cnncls/lib/python3.8/site-packages/tornado/platform/asyncio.py\", line 195, in start\n      self.asyncio_loop.run_forever()\n    File \"/home/zahid/miniconda3/envs/cnncls/lib/python3.8/asyncio/base_events.py\", line 570, in run_forever\n      self._run_once()\n    File \"/home/zahid/miniconda3/envs/cnncls/lib/python3.8/asyncio/base_events.py\", line 1859, in _run_once\n      handle._run()\n    File \"/home/zahid/miniconda3/envs/cnncls/lib/python3.8/asyncio/events.py\", line 81, in _run\n      self._context.run(self._callback, *self._args)\n    File \"/home/zahid/miniconda3/envs/cnncls/lib/python3.8/site-packages/ipykernel/kernelbase.py\", line 513, in dispatch_queue\n      await self.process_one()\n    File \"/home/zahid/miniconda3/envs/cnncls/lib/python3.8/site-packages/ipykernel/kernelbase.py\", line 502, in process_one\n      await dispatch(*args)\n    File \"/home/zahid/miniconda3/envs/cnncls/lib/python3.8/site-packages/ipykernel/kernelbase.py\", line 409, in dispatch_shell\n      await result\n    File \"/home/zahid/miniconda3/envs/cnncls/lib/python3.8/site-packages/ipykernel/kernelbase.py\", line 729, in execute_request\n      reply_content = await reply_content\n    File \"/home/zahid/miniconda3/envs/cnncls/lib/python3.8/site-packages/ipykernel/ipkernel.py\", line 422, in do_execute\n      res = shell.run_cell(\n    File \"/home/zahid/miniconda3/envs/cnncls/lib/python3.8/site-packages/ipykernel/zmqshell.py\", line 540, in run_cell\n      return super().run_cell(*args, **kwargs)\n    File \"/home/zahid/miniconda3/envs/cnncls/lib/python3.8/site-packages/IPython/core/interactiveshell.py\", line 3009, in run_cell\n      result = self._run_cell(\n    File \"/home/zahid/miniconda3/envs/cnncls/lib/python3.8/site-packages/IPython/core/interactiveshell.py\", line 3064, in _run_cell\n      result = runner(coro)\n    File \"/home/zahid/miniconda3/envs/cnncls/lib/python3.8/site-packages/IPython/core/async_helpers.py\", line 129, in _pseudo_sync_runner\n      coro.send(None)\n    File \"/home/zahid/miniconda3/envs/cnncls/lib/python3.8/site-packages/IPython/core/interactiveshell.py\", line 3269, in run_cell_async\n      has_raised = await self.run_ast_nodes(code_ast.body, cell_name,\n    File \"/home/zahid/miniconda3/envs/cnncls/lib/python3.8/site-packages/IPython/core/interactiveshell.py\", line 3448, in run_ast_nodes\n      if await self.run_code(code, result, async_=asy):\n    File \"/home/zahid/miniconda3/envs/cnncls/lib/python3.8/site-packages/IPython/core/interactiveshell.py\", line 3508, in run_code\n      exec(code_obj, self.user_global_ns, self.user_ns)\n    File \"/tmp/ipykernel_65431/2790068021.py\", line 1, in <module>\n      history = model.fit(train_ds,\n    File \"/home/zahid/miniconda3/envs/cnncls/lib/python3.8/site-packages/keras/utils/traceback_utils.py\", line 65, in error_handler\n      return fn(*args, **kwargs)\n    File \"/home/zahid/miniconda3/envs/cnncls/lib/python3.8/site-packages/keras/engine/training.py\", line 1685, in fit\n      tmp_logs = self.train_function(iterator)\n    File \"/home/zahid/miniconda3/envs/cnncls/lib/python3.8/site-packages/keras/engine/training.py\", line 1284, in train_function\n      return step_function(self, iterator)\n    File \"/home/zahid/miniconda3/envs/cnncls/lib/python3.8/site-packages/keras/engine/training.py\", line 1268, in step_function\n      outputs = model.distribute_strategy.run(run_step, args=(data,))\n    File \"/home/zahid/miniconda3/envs/cnncls/lib/python3.8/site-packages/keras/engine/training.py\", line 1249, in run_step\n      outputs = model.train_step(data)\n    File \"/home/zahid/miniconda3/envs/cnncls/lib/python3.8/site-packages/keras/engine/training.py\", line 1050, in train_step\n      y_pred = self(x, training=True)\n    File \"/home/zahid/miniconda3/envs/cnncls/lib/python3.8/site-packages/keras/utils/traceback_utils.py\", line 65, in error_handler\n      return fn(*args, **kwargs)\n    File \"/home/zahid/miniconda3/envs/cnncls/lib/python3.8/site-packages/keras/engine/training.py\", line 558, in __call__\n      return super().__call__(*args, **kwargs)\n    File \"/home/zahid/miniconda3/envs/cnncls/lib/python3.8/site-packages/keras/utils/traceback_utils.py\", line 65, in error_handler\n      return fn(*args, **kwargs)\n    File \"/home/zahid/miniconda3/envs/cnncls/lib/python3.8/site-packages/keras/engine/base_layer.py\", line 1145, in __call__\n      outputs = call_fn(inputs, *args, **kwargs)\n    File \"/home/zahid/miniconda3/envs/cnncls/lib/python3.8/site-packages/keras/utils/traceback_utils.py\", line 96, in error_handler\n      return fn(*args, **kwargs)\n    File \"/home/zahid/miniconda3/envs/cnncls/lib/python3.8/site-packages/keras/engine/functional.py\", line 512, in call\n      return self._run_internal_graph(inputs, training=training, mask=mask)\n    File \"/home/zahid/miniconda3/envs/cnncls/lib/python3.8/site-packages/keras/engine/functional.py\", line 669, in _run_internal_graph\n      outputs = node.layer(*args, **kwargs)\n    File \"/home/zahid/miniconda3/envs/cnncls/lib/python3.8/site-packages/keras/utils/traceback_utils.py\", line 65, in error_handler\n      return fn(*args, **kwargs)\n    File \"/home/zahid/miniconda3/envs/cnncls/lib/python3.8/site-packages/keras/engine/base_layer.py\", line 1145, in __call__\n      outputs = call_fn(inputs, *args, **kwargs)\n    File \"/home/zahid/miniconda3/envs/cnncls/lib/python3.8/site-packages/keras/utils/traceback_utils.py\", line 96, in error_handler\n      return fn(*args, **kwargs)\n    File \"/home/zahid/miniconda3/envs/cnncls/lib/python3.8/site-packages/keras/layers/convolutional/base_conv.py\", line 321, in call\n      return self.activation(outputs)\n    File \"/home/zahid/miniconda3/envs/cnncls/lib/python3.8/site-packages/keras/activations.py\", line 317, in relu\n      return backend.relu(\n    File \"/home/zahid/miniconda3/envs/cnncls/lib/python3.8/site-packages/keras/backend.py\", line 5396, in relu\n      x = tf.nn.relu(x)\nNode: 'model/conv2d/Relu'\nOOM when allocating tensor with shape[32,128,128,128] and type float on /job:localhost/replica:0/task:0/device:GPU:0 by allocator GPU_0_bfc\n\t [[{{node model/conv2d/Relu}}]]\nHint: If you want to see a list of allocated tensors when OOM happens, add report_tensor_allocations_upon_oom to RunOptions for current allocation info. This isn't available when running in Eager mode.\n [Op:__inference_train_function_1460]"
     ]
    }
   ],
   "source": [
    "history = model.fit(train_ds,\n",
    "                    epochs=10,\n",
    "                    validation_data = test_ds,\n",
    "                    )"
   ]
  },
  {
   "cell_type": "code",
   "execution_count": null,
   "metadata": {},
   "outputs": [],
   "source": []
  }
 ],
 "metadata": {
  "kernelspec": {
   "display_name": "cnncls",
   "language": "python",
   "name": "python3"
  },
  "language_info": {
   "codemirror_mode": {
    "name": "ipython",
    "version": 3
   },
   "file_extension": ".py",
   "mimetype": "text/x-python",
   "name": "python",
   "nbconvert_exporter": "python",
   "pygments_lexer": "ipython3",
   "version": "3.8.16"
  },
  "orig_nbformat": 4
 },
 "nbformat": 4,
 "nbformat_minor": 2
}
